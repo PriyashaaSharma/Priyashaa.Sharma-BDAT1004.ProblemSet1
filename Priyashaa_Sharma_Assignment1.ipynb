{
 "cells": [
  {
   "cell_type": "markdown",
   "id": "b6d8ff29",
   "metadata": {},
   "source": [
    "# <p style=\"text-align: center;\"> Assignment - 1, Data Programming </p>"
   ]
  },
  {
   "cell_type": "markdown",
   "id": "03eff779",
   "metadata": {},
   "source": [
    "### Question 1"
   ]
  },
  {
   "cell_type": "markdown",
   "id": "537a967a",
   "metadata": {},
   "source": [
    "#### What data type is each of the following (evaluate where necessary)?\n",
    "\n",
    "- 5 \n",
    "- 5.0\n",
    "- 5 > 1\n",
    "- '5'\n",
    "- 5 * 2\n",
    "- '5' * 2\n",
    "- '5' + '2'\n",
    "- 5 / 2\n",
    "- 5 % 2\n",
    "- {5, 2, 1}\n",
    "- 5 == 3\n",
    "- Pi (the number)"
   ]
  },
  {
   "cell_type": "code",
   "execution_count": 2,
   "id": "90b7e57d",
   "metadata": {},
   "outputs": [
    {
     "name": "stdout",
     "output_type": "stream",
     "text": [
      "The data type of 5 = <class 'int'>\n",
      "The data type of 5.0 = <class 'float'>\n",
      "The data type of 5 > 1 = <class 'bool'>\n",
      "The data type of '5' = <class 'str'>\n",
      "The data type of 5 * 2 = <class 'int'>\n",
      "The data type of '5' * 2 = <class 'str'>\n",
      "The data type of '5' + '2' = <class 'str'>\n",
      "The data type of 5 / 2 = <class 'float'>\n",
      "The data type of 5 % 2 = <class 'int'>\n",
      "The data type of { 5, 2, 1 } = <class 'set'>\n",
      "The data type of 5 == 3 = <class 'bool'>\n",
      "The data type of pi = <class 'float'>\n"
     ]
    }
   ],
   "source": [
    "# For determining the data type, will use the function type()\n",
    "\n",
    "print(\"The data type of\",5,\"=\", type(5))\n",
    "print(\"The data type of\",5.0,\"=\", type(5.0))\n",
    "print(\"The data type of\",\"5 > 1\",\"=\",type(5 > 1))\n",
    "print(\"The data type of\",\"'5'\",\"=\",type('5'))\n",
    "print(\"The data type of\",\"5 * 2\",\"=\",type(5 * 2))\n",
    "print(\"The data type of\",\"'5' * 2\",\"=\",type('5' * 2))\n",
    "print(\"The data type of\",\"'5' + '2'\",\"=\",type('5' + '2'))\n",
    "print(\"The data type of\",\"5 / 2\",\"=\",type(5 / 2))\n",
    "print(\"The data type of\",\"5 % 2\",\"=\",type(5 % 2))\n",
    "print(\"The data type of\",\"{ 5, 2, 1 }\",\"=\",type({ 5, 2, 1 }))\n",
    "print(\"The data type of\",\"5 == 3\",\"=\",type(5 == 3))\n",
    "\n",
    "# I import the math module and access the value of pi (the number).\n",
    "\n",
    "import math\n",
    "print(\"The data type of\",\"pi\",\"=\",type(math.pi))"
   ]
  },
  {
   "cell_type": "markdown",
   "id": "53bf63c9",
   "metadata": {},
   "source": [
    "### Question 2"
   ]
  },
  {
   "cell_type": "markdown",
   "id": "1d4d61b0",
   "metadata": {},
   "source": [
    "#### Write (and evaluate) python expressions that answer these questions:\n",
    "\n",
    "- a. How many letters are there in 'Supercalifragilisticexpialidocious'?\n",
    "\n",
    "- b. Does 'Supercalifragilisticexpialidocious' contain 'ice' as a substring? \n",
    "\n",
    "- c. Which of the following words is the longest: Supercalifragilisticexpialidocious, Honorificabilitudinitatibus, or       Bababadalgharaghtakamminarronnkonn? \n",
    "\n",
    "- d. Which composer comes first in the dictionary: 'Berlioz', 'Borodin', 'Brian', 'Bartok', 'Bellini', 'Buxtehude', 'Bernstein'. Which one comes last?"
   ]
  },
  {
   "cell_type": "code",
   "execution_count": 3,
   "id": "72353cbe",
   "metadata": {},
   "outputs": [
    {
     "name": "stdout",
     "output_type": "stream",
     "text": [
      "There are 34 letters in Supercalifragilisticexpialidocious\n",
      "----------------------------------------------------\n",
      "True\n",
      "----------------------------------------------------\n",
      "The length of letter_1 is 34 , the length of letter_2 is 27  and the length of letter_3 is 34\n",
      "The longest word in c is  Supercalifragilisticexpialidocious\n",
      "----------------------------------------------------\n",
      "The first word in the dictionary is  Bartok\n",
      "The last word in the dictionary is  Buxtehude\n",
      "----------------------------------------------------\n"
     ]
    }
   ],
   "source": [
    "############ Question 2, Part 1\n",
    "\n",
    "a = 'Supercalifragilisticexpialidocious'\n",
    "Length_of_a = len(a)\n",
    "print(\"There are\" ,Length_of_a , \"letters in Supercalifragilisticexpialidocious\")\n",
    "\n",
    "print(\"----------------------------------------------------\")\n",
    "\n",
    "############ Question 2, Part 2\n",
    "\n",
    "b = 'Supercalifragilisticexpialidocious'\n",
    "substring = 'ice'\n",
    "substring_in_b = substring in b\n",
    "print(substring_in_b)\n",
    "\n",
    "print(\"----------------------------------------------------\")\n",
    "\n",
    "############ Question 2, Part 3\n",
    "\n",
    "letter_1 = 'Supercalifragilisticexpialidocious'\n",
    "letter_2 = 'Honorificabilitudinitatibus'\n",
    "letter_3 = 'Bababadalgharaghtakamminarronnkonn'\n",
    "\n",
    "print(\"The length of letter_1 is\",len(letter_1), \", the length of letter_2 is\", len(letter_2), \" and the length of letter_3 is\", len(letter_3))\n",
    "\n",
    "c = ['Supercalifragilisticexpialidocious', 'Honorificabilitudinitatibus', 'Bababadalgharaghtakamminarronnkonn']\n",
    "longest_word = max(c, key=len)\n",
    "print(\"The longest word in c is \", longest_word)\n",
    "\n",
    "print(\"----------------------------------------------------\")\n",
    "\n",
    "############# Question 2, Part 4\n",
    "\n",
    "d = ['Berlioz', 'Borodin', 'Brian', 'Bartok', 'Bellini', 'Buxtehude', 'Bernstein']\n",
    "d.sort()\n",
    "first_word = d[0]\n",
    "last_word = d[6]\n",
    "print(\"The first word in the dictionary is \", first_word)\n",
    "print(\"The last word in the dictionary is \", last_word)\n",
    "\n",
    "print(\"----------------------------------------------------\")"
   ]
  },
  {
   "cell_type": "markdown",
   "id": "003a785c",
   "metadata": {},
   "source": [
    "### Question 3"
   ]
  },
  {
   "cell_type": "markdown",
   "id": "992552af",
   "metadata": {},
   "source": [
    "#### Implement function triangleArea(a,b,c) that takes as input the lengths of the 3 sides of a triangle and returns the area of the triangle. \n",
    "\n",
    "By Heron's formula, the area of a triangle with side lengths a, b, and c is the square root of s(s - a)(s -b)(s -c), where s = (a+b+c)/2.\n",
    "\n",
    "Expected Output: triangleArea(2,2,2) = 1.7320508075688772"
   ]
  },
  {
   "cell_type": "code",
   "execution_count": 4,
   "id": "ac731b46",
   "metadata": {},
   "outputs": [
    {
     "name": "stdout",
     "output_type": "stream",
     "text": [
      "Please enter the length of side a: 2\n",
      "Please enter the length of side b: 2\n",
      "Please enter the length of side c: 2\n",
      "\n",
      " The area of the triangle is 1.7320508075688772\n"
     ]
    }
   ],
   "source": [
    "# For determining area of triangle.\n",
    "\n",
    "def TriangleArea(a, b, c):\n",
    "    s = (a + b + c) / 2\n",
    "    area = (s * (s - a) * (s - b) * (s - c)) ** 0.5\n",
    "    return area\n",
    "\n",
    "a = float(input(\"Please enter the length of side a: \"))\n",
    "b = float(input(\"Please enter the length of side b: \"))\n",
    "c = float(input(\"Please enter the length of side c: \"))\n",
    "\n",
    "area = TriangleArea(a, b, c)\n",
    "\n",
    "print(\"\\n The area of the triangle is\", area)"
   ]
  },
  {
   "cell_type": "markdown",
   "id": "212af895",
   "metadata": {},
   "source": [
    "### Question 4"
   ]
  },
  {
   "cell_type": "markdown",
   "id": "9ce33a7f",
   "metadata": {},
   "source": [
    "#### Write a program in python to separate odd and even integers in separate arrays. Go to the editor\n",
    "\n",
    "Test Data : \n",
    "Input the number of elements to be stored in the array :5\n",
    "- Input 5 elements in the array :\n",
    "- element - 0 : 25,\n",
    "- element - 1 : 47,\n",
    "- element - 2 : 42,\n",
    "- element - 3 : 56,\n",
    "- element - 4 : 32,\n",
    "\n",
    "Expected Output:\n",
    "\n",
    "- The Even elements are:\n",
    "[42 56 32]\n",
    "- The Odd elements are :\n",
    "[25 47]\n"
   ]
  },
  {
   "cell_type": "code",
   "execution_count": 5,
   "id": "2e2b4d35",
   "metadata": {},
   "outputs": [
    {
     "name": "stdout",
     "output_type": "stream",
     "text": [
      "Please enter the count of element: 5\n",
      " Enter element - 0: 25\n",
      " Enter element - 1: 47\n",
      " Enter element - 2: 42\n",
      " Enter element - 3: 56\n",
      " Enter element - 4: 32\n",
      "\n",
      " The Even Elements are :\n",
      " [42, 56, 32]\n",
      "\n",
      " The Odd Elements are :\n",
      " [25, 47]\n"
     ]
    }
   ],
   "source": [
    "#For determining Odd and Even elements.\n",
    "\n",
    "Test_Data = int(input(\"Please enter the count of element: \"))\n",
    "\n",
    "even = []\n",
    "odd  = []\n",
    "\n",
    "for i in range(Test_Data):\n",
    "    number = int(input(f\" Enter element - {i}: \"))\n",
    "    if number % 2 == 0:\n",
    "        even.append(number)\n",
    "    else:\n",
    "        odd.append(number)\n",
    "\n",
    "        \n",
    "print(\"\\n The Even Elements are :\\n\", even)\n",
    "print(\"\\n The Odd Elements are :\\n\", odd)\n"
   ]
  },
  {
   "cell_type": "markdown",
   "id": "df1f442c",
   "metadata": {},
   "source": [
    "### Question 5"
   ]
  },
  {
   "cell_type": "markdown",
   "id": "8c82193e",
   "metadata": {},
   "source": [
    "#### 5a. Write a function inside(x,y,x1,y1,x2,y2) that returns True or False depending on whether the point (x,y) lies in the rectangle with lower left corner (x1,y1) and upper right corner (x2,y2).\n",
    "\n",
    "Expected Outcome:\n",
    "inside(1,1,0,0,2,3),True"
   ]
  },
  {
   "cell_type": "code",
   "execution_count": 16,
   "id": "fa4e7065",
   "metadata": {
    "scrolled": true
   },
   "outputs": [
    {
     "name": "stdout",
     "output_type": "stream",
     "text": [
      "Please enter the value for x: 1\n",
      "Please enter the value for y: 1\n",
      "Please enter the value for x1: 0\n",
      "Please enter the value for y1: 0\n",
      "Please enter the value for x2: 2\n",
      "Please enter the value for y2: 3\n",
      "True\n",
      "The point( 1.0 , 1.0 ) lies between the lower left point ( 0.0 , 0.0 ) and the upper right point ( 2.0 , 3.0 ) in the rectangle\n"
     ]
    }
   ],
   "source": [
    "############### Question 5 - Part 1 - (5a) \n",
    "\n",
    "# Points lies between both corners in rectangle or not - Values(1,1,0,0,2,3)\n",
    "\n",
    "def inside(x, y, x1, y1, x2, y2):\n",
    "    if x >= x1 and x <= x2 and y >= y1 and y <= y2:\n",
    "        return True\n",
    "    else:\n",
    "        return False\n",
    "    \n",
    "x =  float(input(\"Please enter the value for x: \"))\n",
    "y =  float(input(\"Please enter the value for y: \"))\n",
    "x1 = float(input(\"Please enter the value for x1: \"))\n",
    "y1 = float(input(\"Please enter the value for y1: \"))\n",
    "x2 = float(input(\"Please enter the value for x2: \"))\n",
    "y2 = float(input(\"Please enter the value for y2: \"))\n",
    "\n",
    "print(inside(x, y, x1, y1, x2, y2))\n",
    "if inside(x, y, x1, y1, x2, y2):\n",
    "        print(\"The point(\",x,\",\",y,\") lies between the lower left point (\",x1,\",\", y1,\") and the upper right point (\",x2,\",\", y2,\") in the rectangle\")\n",
    "else: \n",
    "        print(\"The point(\",x,\",\",y,\") do not lie between the lower left point (\",x1,\",\", y1,\") and the upper right point (\",x2,\",\", y2,\") in the rectangle\")\n"
   ]
  },
  {
   "cell_type": "markdown",
   "id": "82fea779",
   "metadata": {},
   "source": [
    "#### 5a. Write a function inside(x,y,x1,y1,x2,y2) that returns True or False depending on whether the point (x,y) lies in the rectangle with lower left corner (x1,y1) and upper right corner (x2,y2).\n",
    "\n",
    "Expected Outcome \n",
    "inside(-1,-1,0,0,2,3),False"
   ]
  },
  {
   "cell_type": "code",
   "execution_count": 18,
   "id": "26eb929f",
   "metadata": {},
   "outputs": [
    {
     "name": "stdout",
     "output_type": "stream",
     "text": [
      "Please enter the value for x: -1\n",
      "Please enter the value for y: -1\n",
      "Please enter the value for x1: 0\n",
      "Please enter the value for y1: 0\n",
      "Please enter the value for x2: 2\n",
      "Please enter the value for y2: 3\n",
      "False\n",
      "The point( -1.0 , -1.0 ) do not lie between the lower left point ( 0.0 , 0.0 ) and the upper right point ( 2.0 , 3.0 ) in the rectangle\n"
     ]
    }
   ],
   "source": [
    "# Points lies between both corners in rectangle or not - Values(-1,-1,0,0,2,3)\n",
    "\n",
    "def inside(x, y, x1, y1, x2, y2):\n",
    "    if x >= x1 and x <= x2 and y >= y1 and y <= y2:\n",
    "        return True\n",
    "    else:\n",
    "        return False\n",
    "    \n",
    "x =  float(input(\"Please enter the value for x: \"))\n",
    "y =  float(input(\"Please enter the value for y: \"))\n",
    "x1 = float(input(\"Please enter the value for x1: \"))\n",
    "y1 = float(input(\"Please enter the value for y1: \"))\n",
    "x2 = float(input(\"Please enter the value for x2: \"))\n",
    "y2 = float(input(\"Please enter the value for y2: \"))\n",
    "\n",
    "\n",
    "print(inside(x, y, x1, y1, x2, y2))\n",
    "if inside(x, y, x1, y1, x2, y2):\n",
    "        print(\"The point(\",x,\",\",y,\") lies between the lower left point (\",x1,\",\", y1,\") and the upper right point (\",x2,\",\", y2,\") in the rectangle\")\n",
    "else: \n",
    "        print(\"The point(\",x,\",\",y,\") do not lie between the lower left point (\",x1,\",\", y1,\") and the upper right point (\",x2,\",\", y2,\") in the rectangle\")\n"
   ]
  },
  {
   "cell_type": "markdown",
   "id": "5c87135d",
   "metadata": {},
   "source": [
    "#### 5b. Use function inside() from part a. to write an expression that tests whether the point (1,1) lies in both of the following rectangles: one with lower left corner (0.3, 0.5) and upper right corner (1.1, 0.7) and the other with lower left corner (0.5, 0.2) and upper right corner (1.1, 2)."
   ]
  },
  {
   "cell_type": "code",
   "execution_count": 17,
   "id": "151c5064",
   "metadata": {},
   "outputs": [
    {
     "name": "stdout",
     "output_type": "stream",
     "text": [
      "The point (1, 1) lies in the lower and upper left and right corner in rectangle2 only.\n"
     ]
    }
   ],
   "source": [
    "################ Question 5 - Part 2 - (5b)\n",
    "# Determing Points lies between both corners in both rectangle or not.\n",
    "def inside(x, y, x1, y1, x2, y2):\n",
    "    return x >= x1 and x <= x2 and y >= y1 and y <= y2\n",
    "\n",
    "rectangle1 = inside(1, 1, 0.3, 0.5, 1.1, 0.7)\n",
    "rectangle2 = inside(1, 1, 0.5, 0.2, 1.1, 2)\n",
    "\n",
    "if rectangle1 == True and rectangle2 == True:\n",
    "    print(\"The point (1, 1) lies with both the lower and upper left and right corner in both rectangles.\")\n",
    "elif rectangle1 == True and rectangle2 == False:\n",
    "    print(\"The point (1, 1) lies in the lower and upper left and right corner in rectangle1 only.\")\n",
    "elif rectangle1 == False and rectangle2 == True:\n",
    "    print(\"The point (1, 1) lies in the lower and upper left and right corner in rectangle2 only.\")\n",
    "else:\n",
    "    print(\"The point (1, 1) does not lies in both the lower and upper left and right corner in both rectangles.\")\n",
    "    "
   ]
  },
  {
   "cell_type": "markdown",
   "id": "140f46ba",
   "metadata": {},
   "source": [
    "### Question 6"
   ]
  },
  {
   "cell_type": "markdown",
   "id": "4f841edc",
   "metadata": {},
   "source": [
    "#### You can turn a word into pig-Latin using the following two rules (simplified):\n",
    "\n",
    "- If the word starts with a consonant, move that letter to the end and append 'ay'. For example, 'happy' becomes 'appyhay' and 'pencil' becomes 'encilpay'.\n",
    "- If the word starts with a vowel, simply append 'way' to the end of the word. \n",
    "- For example, 'enter' becomes 'enterway' and 'other' becomes 'otherway' . For our purposes, there are 5 vowels: a, e, i, o, u (so we count y as a consonant).\n",
    "\n",
    "#### Write a function pig() that takes a word (i.e., a string) as input and returns its pig Latin form. Your function should still work if the input word contains upper case characters. Your output should always be lower case however. "
   ]
  },
  {
   "cell_type": "code",
   "execution_count": 28,
   "id": "0d7ec6e1",
   "metadata": {},
   "outputs": [
    {
     "name": "stdout",
     "output_type": "stream",
     "text": [
      "Enter the word starts from a consonant: HapPy\n",
      "Enter the word starts from a vowel: EnteR\n",
      "\n",
      "The pig_latin word for  HapPy  is  appyhay\n",
      "The pig_latin word for  EnteR  is  enterway\n"
     ]
    }
   ],
   "source": [
    "# For Determining what output occurs when letter starts with consonant and vowel.\n",
    "\n",
    "def pig(word):\n",
    "    vowels = ['a', 'e', 'i', 'o', 'u']\n",
    "    word = word.lower()\n",
    "    \n",
    "    if word[0] in vowels:\n",
    "        pig_latin = word + 'way'\n",
    "    else:\n",
    "        pig_latin = word[1:] + word[0] + 'ay'\n",
    "        \n",
    "    return pig_latin\n",
    "\n",
    "Consonant_output = str(input(\"Enter the word starts from a consonant: \"))\n",
    "Vowels_output = str(input(\"Enter the word starts from a vowel: \"))\n",
    "\n",
    "print(\"\\nThe pig_latin word for \",Consonant_output,\" is \",pig(Consonant_output))\n",
    "print(\"The pig_latin word for \",Vowels_output,\" is \",pig(Vowels_output))"
   ]
  },
  {
   "cell_type": "markdown",
   "id": "c4cbb259",
   "metadata": {},
   "source": [
    "### Question 7"
   ]
  },
  {
   "cell_type": "markdown",
   "id": "7296eb27",
   "metadata": {},
   "source": [
    "#### File bloodtype1.txt records blood-types of patients (A, B, AB, O or OO) at a clinic. \n",
    "- Write a function bldcount() that reads the file with name name and reports (i.e., prints) how many patients there are in each bloodtype.\n",
    "\n",
    "Expected Outcome :\n",
    "- bldcount('bloodtype.txt')\n",
    "- There are 15 patients of blood type A.\n",
    "- There is one patient of blood type B.\n",
    "- There are 13 patients of blood type AB.\n",
    "- There are 15 patients of blood type O.\n",
    "- There are no patients of blood type OO."
   ]
  },
  {
   "cell_type": "code",
   "execution_count": 1,
   "id": "27df5002",
   "metadata": {},
   "outputs": [
    {
     "name": "stdout",
     "output_type": "stream",
     "text": [
      "There are 15 patients of blood type A.\n",
      "There is one patient of blood type B.\n",
      "There are 13 patients of blood type AB.\n",
      "There are 15 patients of blood type O.\n",
      "There are 0 patients of blood type OO.\n"
     ]
    }
   ],
   "source": [
    "# For determining blood group of patients.\n",
    "\n",
    "def bldcount(name):\n",
    "    bld_count = {'A': 0, 'B': 0, 'AB': 0, 'O': 0, 'OO': 0}\n",
    "\n",
    "    with open(name, 'r') as file:\n",
    "        blood = file.read().split()\n",
    "\n",
    "        for type_of_blood in blood:\n",
    "            if type_of_blood in bld_count:\n",
    "                bld_count[type_of_blood] += 1\n",
    "\n",
    "    for type_of_blood, blood_count in bld_count.items():\n",
    "        if blood_count == 1:\n",
    "            print(\"There is one patient of blood type\", type_of_blood + \".\")\n",
    "        else:\n",
    "            print(\"There are\", blood_count, \"patients of blood type\", type_of_blood + \".\")\n",
    "\n",
    "\n",
    "bldcount('Documents/BothFiles/bloodgroup.txt')"
   ]
  },
  {
   "cell_type": "markdown",
   "id": "379b87b9",
   "metadata": {},
   "source": [
    "### Question 8"
   ]
  },
  {
   "cell_type": "markdown",
   "id": "a906221e",
   "metadata": {},
   "source": [
    "#### Write a function curconv() that takes as input:\n",
    "1. a currency represented using a string (e.g., 'JPY' for the Japanese Yen or 'EUR' for the Euro)\n",
    "2. an amount and then converts and returns the amount in US dollars. \n",
    "\n",
    "Expected Output:\n",
    "- curconv('EUR', 100)\n",
    "122.96544\n",
    "- curconv('JPY', 100)\n",
    "1.241401"
   ]
  },
  {
   "cell_type": "code",
   "execution_count": 23,
   "id": "10f506cf",
   "metadata": {},
   "outputs": [
    {
     "name": "stdout",
     "output_type": "stream",
     "text": [
      "Catalog of available currencies\n",
      "AUD CHF CNY DKK EUR GBP HKD INR JPY MXN MYR NOK NZD PHP SEK SGD THB\n",
      "\n",
      " Please enter your currency type: EUR\n",
      "Please enter the money amount you wish to convert: 100\n",
      "\n",
      " 100.0   EUR  is equal to  122.96544  US dollars\n"
     ]
    }
   ],
   "source": [
    "# For determining currencies and conversion rate amount of those currencies.\n",
    "\n",
    "def curconv(currency, amount):\n",
    "    with open('Documents/BothFiles/currencies.txt', 'r') as file:\n",
    "        for queue in file:\n",
    "            sections = queue.split()\n",
    "            if sections[0] == currency:\n",
    "                conversion_rate = float(sections[1])\n",
    "                amount_converted = amount * conversion_rate\n",
    "                return amount_converted\n",
    "    return None\n",
    "\n",
    "print(\"Catalog of available currencies\")\n",
    "\n",
    "print(\"AUD CHF CNY DKK EUR GBP HKD INR JPY MXN MYR NOK NZD PHP SEK SGD THB\")\n",
    "currencies_list = \"AUD CHF CNY DKK EUR GBP HKD INR JPY MXN MYR NOK NZD PHP SEK SGD THB\"\n",
    "\n",
    "currency_one = str(input(\"\\n Please enter your currency type: \"))\n",
    "if currency_one in currencies_list:\n",
    "    amount_2 = float(input(\"Please enter the money amount you wish to convert: \"))\n",
    "    print(\"\\n\",amount_2, \" \", currency_one, \" is equal to \", curconv(currency_one,amount_2), \" US dollars\")\n",
    "else:\n",
    "    print(\"Currency Type not included in the list\")"
   ]
  },
  {
   "cell_type": "markdown",
   "id": "31b0c37d",
   "metadata": {},
   "source": [
    "### Question 9"
   ]
  },
  {
   "cell_type": "markdown",
   "id": "af9a3563",
   "metadata": {},
   "source": [
    "####  Each of the following will cause an exception (an error). Identify what type of exception each will cause.\n",
    "\n",
    "- 9(a)Trying to add incompatible variables, as in adding 6 + ‘a’\n",
    "- 9(b)Referring to the 12th item of a list that has only 10 item.\n",
    "- 9(c)Using a value that is out of range for a function’s input, such as calling math.sqrt(-1.0)\n",
    "- 9(d)Using an undeclared variable, such as print(x) when x has not been defined \n",
    "- 9(e)Trying to open a file that does not exist, such as mistyping the file name or looking in the wrong directory."
   ]
  },
  {
   "cell_type": "markdown",
   "id": "e628ca08",
   "metadata": {},
   "source": [
    "#### 9(a)Trying to add incompatible variables, as in adding 6 + ‘a’"
   ]
  },
  {
   "cell_type": "code",
   "execution_count": 57,
   "id": "fc473792",
   "metadata": {},
   "outputs": [
    {
     "ename": "TypeError",
     "evalue": "unsupported operand type(s) for +: 'int' and 'str'",
     "output_type": "error",
     "traceback": [
      "\u001b[1;31m---------------------------------------------------------------------------\u001b[0m",
      "\u001b[1;31mTypeError\u001b[0m                                 Traceback (most recent call last)",
      "Cell \u001b[1;32mIn[57], line 2\u001b[0m\n\u001b[0;32m      1\u001b[0m \u001b[38;5;66;03m############ Question 9 - 9(a)\u001b[39;00m\n\u001b[1;32m----> 2\u001b[0m part1 \u001b[38;5;241m=\u001b[39m \u001b[38;5;241;43m6\u001b[39;49m\u001b[43m \u001b[49m\u001b[38;5;241;43m+\u001b[39;49m\u001b[43m \u001b[49m\u001b[38;5;124;43m'\u001b[39;49m\u001b[38;5;124;43ma\u001b[39;49m\u001b[38;5;124;43m'\u001b[39;49m\n\u001b[0;32m      3\u001b[0m \u001b[38;5;28mprint\u001b[39m(part1)\n",
      "\u001b[1;31mTypeError\u001b[0m: unsupported operand type(s) for +: 'int' and 'str'"
     ]
    }
   ],
   "source": [
    "############ Question 9 - 9(a)\n",
    "part1 = 6 + 'a'\n",
    "print(part1)"
   ]
  },
  {
   "cell_type": "raw",
   "id": "eb076a35",
   "metadata": {},
   "source": [
    "This is a TypeError Exception. This error occurs because Python does not allow direct addition between different types, in this case, an integer (int) and a string (str). To perform this operation successfully, we would need to convert one of the operands to match the other type."
   ]
  },
  {
   "cell_type": "markdown",
   "id": "152b3c35",
   "metadata": {},
   "source": [
    " #### 9(b)Referring to the 12th item of a list that has only 10 items"
   ]
  },
  {
   "cell_type": "code",
   "execution_count": 56,
   "id": "8664bf0d",
   "metadata": {},
   "outputs": [
    {
     "ename": "IndexError",
     "evalue": "list index out of range",
     "output_type": "error",
     "traceback": [
      "\u001b[1;31m---------------------------------------------------------------------------\u001b[0m",
      "\u001b[1;31mIndexError\u001b[0m                                Traceback (most recent call last)",
      "Cell \u001b[1;32mIn[56], line 3\u001b[0m\n\u001b[0;32m      1\u001b[0m \u001b[38;5;66;03m############ Question 9 - 9(b)\u001b[39;00m\n\u001b[0;32m      2\u001b[0m part2 \u001b[38;5;241m=\u001b[39m [\u001b[38;5;124m\"\u001b[39m\u001b[38;5;124mApple\u001b[39m\u001b[38;5;124m\"\u001b[39m, \u001b[38;5;124m\"\u001b[39m\u001b[38;5;124mBanana\u001b[39m\u001b[38;5;124m\"\u001b[39m, \u001b[38;5;124m\"\u001b[39m\u001b[38;5;124mStrawberry\u001b[39m\u001b[38;5;124m\"\u001b[39m, \u001b[38;5;124m\"\u001b[39m\u001b[38;5;124mOrange\u001b[39m\u001b[38;5;124m\"\u001b[39m, \u001b[38;5;124m\"\u001b[39m\u001b[38;5;124mPineapple\u001b[39m\u001b[38;5;124m\"\u001b[39m, \u001b[38;5;124m\"\u001b[39m\u001b[38;5;124mPapaya\u001b[39m\u001b[38;5;124m\"\u001b[39m, \u001b[38;5;124m\"\u001b[39m\u001b[38;5;124mCherry\u001b[39m\u001b[38;5;124m\"\u001b[39m, \u001b[38;5;124m\"\u001b[39m\u001b[38;5;124mKiwi\u001b[39m\u001b[38;5;124m\"\u001b[39m, \u001b[38;5;124m\"\u001b[39m\u001b[38;5;124mWatermelon\u001b[39m\u001b[38;5;124m\"\u001b[39m, \u001b[38;5;124m\"\u001b[39m\u001b[38;5;124mChickoo\u001b[39m\u001b[38;5;124m\"\u001b[39m]\n\u001b[1;32m----> 3\u001b[0m \u001b[38;5;28mprint\u001b[39m(\u001b[43mpart2\u001b[49m\u001b[43m[\u001b[49m\u001b[38;5;241;43m12\u001b[39;49m\u001b[43m]\u001b[49m)\n",
      "\u001b[1;31mIndexError\u001b[0m: list index out of range"
     ]
    }
   ],
   "source": [
    "############ Question 9 - 9(b)\n",
    "part2 = [\"Apple\", \"Banana\", \"Strawberry\", \"Orange\", \"Pineapple\", \"Papaya\", \"Cherry\", \"Kiwi\", \"Watermelon\", \"Chickoo\"]\n",
    "print(part2[12])"
   ]
  },
  {
   "cell_type": "raw",
   "id": "b06cd834",
   "metadata": {},
   "source": [
    "This is a IndexError Exception. This error occurs when we try to access a sequence (such as a list, tuple, or string) using an index that is out of range or invalid. It's important to ensure that the indices we use to access elements are valid and within the range of the sequence to avoid this exception."
   ]
  },
  {
   "cell_type": "markdown",
   "id": "b3325b0f",
   "metadata": {},
   "source": [
    "#### 9(c)Using a value that is out of range for a function’s input, such as calling math.sqrt(-1.0)"
   ]
  },
  {
   "cell_type": "code",
   "execution_count": 59,
   "id": "080045d0",
   "metadata": {},
   "outputs": [
    {
     "name": "stdout",
     "output_type": "stream",
     "text": [
      "Please Enter the number:-10\n"
     ]
    },
    {
     "ename": "ValueError",
     "evalue": "math domain error",
     "output_type": "error",
     "traceback": [
      "\u001b[1;31m---------------------------------------------------------------------------\u001b[0m",
      "\u001b[1;31mValueError\u001b[0m                                Traceback (most recent call last)",
      "Cell \u001b[1;32mIn[59], line 4\u001b[0m\n\u001b[0;32m      2\u001b[0m \u001b[38;5;28;01mimport\u001b[39;00m \u001b[38;5;21;01mmath\u001b[39;00m\n\u001b[0;32m      3\u001b[0m part3 \u001b[38;5;241m=\u001b[39m\u001b[38;5;28mint\u001b[39m(\u001b[38;5;28minput\u001b[39m(\u001b[38;5;124m\"\u001b[39m\u001b[38;5;124mPlease Enter the number:\u001b[39m\u001b[38;5;124m\"\u001b[39m))\n\u001b[1;32m----> 4\u001b[0m \u001b[43mmath\u001b[49m\u001b[38;5;241;43m.\u001b[39;49m\u001b[43msqrt\u001b[49m\u001b[43m(\u001b[49m\u001b[43mpart3\u001b[49m\u001b[43m)\u001b[49m\n",
      "\u001b[1;31mValueError\u001b[0m: math domain error"
     ]
    }
   ],
   "source": [
    "############ Question 9 - 9(c)\n",
    "import math\n",
    "part3 =int(input(\"Please Enter the number:\"))\n",
    "math.sqrt(part3)"
   ]
  },
  {
   "cell_type": "raw",
   "id": "64c9394b",
   "metadata": {},
   "source": [
    "This is a ValueError. This error occurs when we provide input for inappropriate value, an out-of-range value, or an incorrect data type or format for a specific operation."
   ]
  },
  {
   "cell_type": "markdown",
   "id": "2424c0cf",
   "metadata": {},
   "source": [
    "#### 9(d)Using an undeclared variable, such as print(x) when x has not been defined "
   ]
  },
  {
   "cell_type": "code",
   "execution_count": 62,
   "id": "50b4a169",
   "metadata": {},
   "outputs": [
    {
     "ename": "NameError",
     "evalue": "name 'part_4' is not defined",
     "output_type": "error",
     "traceback": [
      "\u001b[1;31m---------------------------------------------------------------------------\u001b[0m",
      "\u001b[1;31mNameError\u001b[0m                                 Traceback (most recent call last)",
      "Cell \u001b[1;32mIn[62], line 3\u001b[0m\n\u001b[0;32m      1\u001b[0m \u001b[38;5;66;03m############ Question 9 - 9(d)\u001b[39;00m\n\u001b[0;32m      2\u001b[0m part4 \u001b[38;5;241m=\u001b[39m \u001b[38;5;124m\"\u001b[39m\u001b[38;5;124mName\u001b[39m\u001b[38;5;124m\"\u001b[39m\n\u001b[1;32m----> 3\u001b[0m \u001b[38;5;28mprint\u001b[39m(\u001b[43mpart_4\u001b[49m)\n",
      "\u001b[1;31mNameError\u001b[0m: name 'part_4' is not defined"
     ]
    }
   ],
   "source": [
    "############ Question 9 - 9(d)\n",
    "part4 = \"Name\"\n",
    "print(part_4)"
   ]
  },
  {
   "cell_type": "raw",
   "id": "ae6667f9",
   "metadata": {},
   "source": [
    "This is a NameError. This error occurs when we try to access or use a variable or name that has not been defined or is not accessible within the current scope. It's important to ensure that the variables we use are defined and accessible within the scope where we intend to use them."
   ]
  },
  {
   "cell_type": "markdown",
   "id": "5474549f",
   "metadata": {},
   "source": [
    "#### 9(e)Trying to open a file that does not exist, such as mistyping the file name or looking in the wrong directory."
   ]
  },
  {
   "cell_type": "code",
   "execution_count": 24,
   "id": "c359b3d9",
   "metadata": {},
   "outputs": [
    {
     "ename": "FileNotFoundError",
     "evalue": "[Errno 2] No such file or directory: 'Documents/BothFles/bloodgrp.txt'",
     "output_type": "error",
     "traceback": [
      "\u001b[1;31m---------------------------------------------------------------------------\u001b[0m",
      "\u001b[1;31mFileNotFoundError\u001b[0m                         Traceback (most recent call last)",
      "Cell \u001b[1;32mIn[24], line 3\u001b[0m\n\u001b[0;32m      1\u001b[0m \u001b[38;5;66;03m############ Question 9 - 9(e)\u001b[39;00m\n\u001b[0;32m      2\u001b[0m part5 \u001b[38;5;241m=\u001b[39m \u001b[38;5;124m'\u001b[39m\u001b[38;5;124mDocuments/BothFles/bloodgrp.txt\u001b[39m\u001b[38;5;124m'\u001b[39m\n\u001b[1;32m----> 3\u001b[0m \u001b[38;5;28;01mwith\u001b[39;00m \u001b[38;5;28;43mopen\u001b[39;49m\u001b[43m(\u001b[49m\u001b[43mpart5\u001b[49m\u001b[43m,\u001b[49m\u001b[43m \u001b[49m\u001b[38;5;124;43m'\u001b[39;49m\u001b[38;5;124;43mr\u001b[39;49m\u001b[38;5;124;43m'\u001b[39;49m\u001b[43m)\u001b[49m \u001b[38;5;28;01mas\u001b[39;00m file:\n\u001b[0;32m      4\u001b[0m     text \u001b[38;5;241m=\u001b[39m file\u001b[38;5;241m.\u001b[39mread()\n\u001b[0;32m      5\u001b[0m     \u001b[38;5;28mprint\u001b[39m(text)\n",
      "File \u001b[1;32mC:\\Anaconda\\lib\\site-packages\\IPython\\core\\interactiveshell.py:282\u001b[0m, in \u001b[0;36m_modified_open\u001b[1;34m(file, *args, **kwargs)\u001b[0m\n\u001b[0;32m    275\u001b[0m \u001b[38;5;28;01mif\u001b[39;00m file \u001b[38;5;129;01min\u001b[39;00m {\u001b[38;5;241m0\u001b[39m, \u001b[38;5;241m1\u001b[39m, \u001b[38;5;241m2\u001b[39m}:\n\u001b[0;32m    276\u001b[0m     \u001b[38;5;28;01mraise\u001b[39;00m \u001b[38;5;167;01mValueError\u001b[39;00m(\n\u001b[0;32m    277\u001b[0m         \u001b[38;5;124mf\u001b[39m\u001b[38;5;124m\"\u001b[39m\u001b[38;5;124mIPython won\u001b[39m\u001b[38;5;124m'\u001b[39m\u001b[38;5;124mt let you open fd=\u001b[39m\u001b[38;5;132;01m{\u001b[39;00mfile\u001b[38;5;132;01m}\u001b[39;00m\u001b[38;5;124m by default \u001b[39m\u001b[38;5;124m\"\u001b[39m\n\u001b[0;32m    278\u001b[0m         \u001b[38;5;124m\"\u001b[39m\u001b[38;5;124mas it is likely to crash IPython. If you know what you are doing, \u001b[39m\u001b[38;5;124m\"\u001b[39m\n\u001b[0;32m    279\u001b[0m         \u001b[38;5;124m\"\u001b[39m\u001b[38;5;124myou can use builtins\u001b[39m\u001b[38;5;124m'\u001b[39m\u001b[38;5;124m open.\u001b[39m\u001b[38;5;124m\"\u001b[39m\n\u001b[0;32m    280\u001b[0m     )\n\u001b[1;32m--> 282\u001b[0m \u001b[38;5;28;01mreturn\u001b[39;00m io_open(file, \u001b[38;5;241m*\u001b[39margs, \u001b[38;5;241m*\u001b[39m\u001b[38;5;241m*\u001b[39mkwargs)\n",
      "\u001b[1;31mFileNotFoundError\u001b[0m: [Errno 2] No such file or directory: 'Documents/BothFles/bloodgrp.txt'"
     ]
    }
   ],
   "source": [
    "############ Question 9 - 9(e)\n",
    "part5 = 'Documents/BothFles/bloodgrp.txt'\n",
    "with open(part5, 'r') as file:\n",
    "    text = file.read()\n",
    "    print(text)"
   ]
  },
  {
   "cell_type": "raw",
   "id": "7a019275",
   "metadata": {},
   "source": [
    "This is a FileNotFoundError. This error occurs when the file path provided in the code is incorrect or misspelled. Its important to enter correct file and path name."
   ]
  },
  {
   "cell_type": "markdown",
   "id": "712838fc",
   "metadata": {},
   "source": [
    "### Question 10"
   ]
  },
  {
   "cell_type": "markdown",
   "id": "db35bc0e",
   "metadata": {},
   "source": [
    "#### Assume that the string letters is already defined as 'abcdefghijklmnopqrstuvwxyz'. Write a function called frequencies() that takes a string as its only parameter, and returns a list of integers, showing the number of times each character appears in the text. \n",
    "\n",
    "Your function may ignore any characters that are not in letters. \n",
    "- frequencies('The quick red fox got bored and went home.')\n",
    "- [1, 1, 1, 3, 5, 1, 1, 2, 1, 0, 1, 0, 1, 2, 4, 0, 1, 2, 0, 2, 1, 0, 1, 1, 0, 0]\n",
    "- frequencies('apple')"
   ]
  },
  {
   "cell_type": "code",
   "execution_count": 68,
   "id": "df326fc1",
   "metadata": {},
   "outputs": [
    {
     "name": "stdout",
     "output_type": "stream",
     "text": [
      "Enter any String : The quick red fox got bored and went home\n",
      "[1, 1, 1, 3, 5, 1, 1, 2, 1, 0, 1, 0, 1, 2, 4, 0, 1, 2, 0, 3, 1, 0, 1, 1, 0, 0]\n"
     ]
    }
   ],
   "source": [
    "# For determining frequencies of the input string.\n",
    "def frequencies(text):\n",
    "    characters = 'abcdefghijklmnopqrstuvwxyz'\n",
    "    characters_count = [0] * 26\n",
    "\n",
    "    lower_text = text.lower()\n",
    "\n",
    "    for char in lower_text:\n",
    "        if char in characters:\n",
    "            index = characters.index(char)\n",
    "            characters_count[index] += 1\n",
    "\n",
    "    return characters_count\n",
    "\n",
    "    \n",
    "encrypted_text = str(input(\"Enter any String : \"))\n",
    "letters = [chr(i) for i in range(ord('a'), ord('z') + 1)]\n",
    "\n",
    "output = frequencies(encrypted_text)\n",
    "print(output)"
   ]
  }
 ],
 "metadata": {
  "kernelspec": {
   "display_name": "Python 3 (ipykernel)",
   "language": "python",
   "name": "python3"
  },
  "language_info": {
   "codemirror_mode": {
    "name": "ipython",
    "version": 3
   },
   "file_extension": ".py",
   "mimetype": "text/x-python",
   "name": "python",
   "nbconvert_exporter": "python",
   "pygments_lexer": "ipython3",
   "version": "3.10.9"
  }
 },
 "nbformat": 4,
 "nbformat_minor": 5
}
